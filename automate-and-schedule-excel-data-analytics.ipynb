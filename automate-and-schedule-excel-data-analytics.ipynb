{
 "cells": [
  {
   "cell_type": "code",
   "execution_count": 1,
   "id": "8fcc0153",
   "metadata": {},
   "outputs": [],
   "source": [
    "# !pip install schedule"
   ]
  },
  {
   "cell_type": "code",
   "execution_count": 2,
   "id": "213ca913",
   "metadata": {},
   "outputs": [],
   "source": [
    "import shutil\n",
    "import os\n",
    "import pandas as pd\n",
    "from openpyxl import load_workbook\n",
    "import schedule\n",
    "import time"
   ]
  },
  {
   "cell_type": "code",
   "execution_count": 3,
   "id": "56f3cd2f",
   "metadata": {},
   "outputs": [],
   "source": [
    "def job():\n",
    "\n",
    "\t#Get List of all processed files in the past\n",
    "\tprocessed_files = [file for file in os.listdir('Processed/') if file.endswith('.xlsx')]\n",
    "\tprocessed_path = os.path.join(os.getcwd(),'Processed/',''.join(processed_files))\n",
    "\n",
    "\t#Check if any new files appeared in drop folder\n",
    "\tdropped_files = [file for file in os.listdir('Drop/') if file.endswith('.xlsx')]\n",
    "\tdrop_path = os.path.join(os.getcwd(),'Drop/',''.join(dropped_files))\n",
    "\n",
    "\t#if there is a new file lets load it to a dataframe and prepare it to write\n",
    "\tif dropped_files:\n",
    "\t\tdf=pd.read_excel(drop_path, usecols= ['Month', 'Dept', 'Sales'])\n",
    "\n",
    "\t\t#Find the current number of entries in the main file\n",
    "\t\tdf_main=pd.read_excel('main.xlsx', usecols= ['Month', 'Dept', 'Sales'])\n",
    "\t\tcurrent_rows=df_main.shape[0]\n",
    "\n",
    "\t\t#Load the main workbook\n",
    "\t\tworkbook_name = 'main.xlsx'\n",
    "\t\twb = load_workbook(workbook_name)\n",
    "\t\tpage=wb['Sheet1']\n",
    "\t\t#page = wb.active\n",
    "\n",
    "\t\t#Write new entries to the main workbook\n",
    "\t\tnew_etries = df.values.tolist()\n",
    "\t\tfor i in new_etries:\n",
    "\t\t\tpage.append(i)\n",
    "\t\twb.save(filename=workbook_name)\n",
    "\t\tdf_main_new=pd.read_excel('main.xlsx', usecols= ['Month', 'Dept', 'Sales'])\n",
    "\t\tnew_rows=df_main_new.shape[0]\n",
    "\n",
    "\t\t#Check to see if old rows+appended rows = total new rows in updated excel\n",
    "\n",
    "\t\tif new_rows == current_rows+df.shape[0]:\n",
    "\t\t\tshutil.move(drop_path, os.path.join(os.getcwd(),'Processed/'))\n",
    "\t\tprint('All Files Process. Completed')\n",
    "\n",
    "\telse:\n",
    "\t\tprint('No New Files')"
   ]
  },
  {
   "cell_type": "code",
   "execution_count": null,
   "id": "02e93f14",
   "metadata": {},
   "outputs": [
    {
     "name": "stdout",
     "output_type": "stream",
     "text": [
      "All Files Process. Completed\n"
     ]
    }
   ],
   "source": [
    "schedule.every().day.at(\"03:37\").do(job)\n",
    "\n",
    "while True:\n",
    "    schedule.run_pending()\n",
    "    time.sleep(1) # wait one minute"
   ]
  },
  {
   "cell_type": "code",
   "execution_count": null,
   "id": "a2ec3125",
   "metadata": {},
   "outputs": [],
   "source": []
  },
  {
   "cell_type": "code",
   "execution_count": null,
   "id": "81fa116b",
   "metadata": {},
   "outputs": [],
   "source": []
  }
 ],
 "metadata": {
  "kernelspec": {
   "display_name": "Python 3 (ipykernel)",
   "language": "python",
   "name": "python3"
  },
  "language_info": {
   "codemirror_mode": {
    "name": "ipython",
    "version": 3
   },
   "file_extension": ".py",
   "mimetype": "text/x-python",
   "name": "python",
   "nbconvert_exporter": "python",
   "pygments_lexer": "ipython3",
   "version": "3.10.9"
  }
 },
 "nbformat": 4,
 "nbformat_minor": 5
}
